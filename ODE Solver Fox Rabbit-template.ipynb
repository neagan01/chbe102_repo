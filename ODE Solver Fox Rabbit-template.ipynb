{
 "cells": [
  {
   "cell_type": "markdown",
   "metadata": {},
   "source": [
    "# Homework 1 - Problem 4.3"
   ]
  },
  {
   "cell_type": "code",
   "execution_count": null,
   "metadata": {},
   "outputs": [],
   "source": [
    "##### Import packages\n",
    "import numpy as np\n",
    "import matplotlib.pyplot as plt\n",
    "from scipy.integrate import solve_ivp"
   ]
  },
  {
   "cell_type": "code",
   "execution_count": null,
   "metadata": {},
   "outputs": [],
   "source": [
    "###### Initial conditions, span, and constants\n",
    "\n",
    "### Define constants\n",
    "k1 = \n",
    "k2 = \n",
    "k3 = \n",
    "k4 = \n",
    "\n",
    "### Set initial conditions\n",
    "x0 = \n",
    "y0 = \n",
    "U0 = [x0,y0]\n",
    "\n",
    "### Specify integration limits\n",
    "tlim = (0,800)\n",
    "tlist = np.linspace(tlim[0],tlim[1],num=100)\n",
    "\n",
    "###### Define differential equations\n",
    "def diff(t,U):\n",
    "   \n",
    "    ### Assign values to inputs if desired\n",
    "    x = U[0]\n",
    "    y = U[1]\n",
    "    \n",
    "    ### Determine expressions for rates of rabbit and fox growth\n",
    "    R_x = \n",
    "    R_y = \n",
    "    \n",
    "    ### Differential equations for rabbit and fox growth\n",
    "    dx = R_x\n",
    "    dy = R_y\n",
    "    \n",
    "    ### Create differential array dU\n",
    "    dU=np.zeros(len(U))\n",
    "    dU[0] = dx\n",
    "    dU[1] = dy\n",
    "    \n",
    "    ### Reorganize list to fit required dimensions \n",
    "    dU = np.array(dU).tolist()\n",
    "    \n",
    "    return dU\n",
    "\n",
    "###### Integrate\n",
    "solution = solve_ivp(diff,tlim,U0,t_eval=tlist)\n",
    "\n",
    "### Obtain outputs and times\n",
    "U = solution.y.T\n",
    "t = solution.t\n",
    "rabbits = U[:,0]\n",
    "foxes   = U[:,1]"
   ]
  },
  {
   "cell_type": "code",
   "execution_count": null,
   "metadata": {},
   "outputs": [],
   "source": [
    "###### Plot data\n",
    "fig = plt.figure()\n",
    "ax1 = plt.subplot(221)\n",
    "ax2 = plt.subplot(222)\n",
    "\n",
    "### Fox vs Rabbit\n",
    "ax1.plot(rabbits,foxes,'b')\n",
    "ax1.set_xlabel('Rabbit Population (# animals)')\n",
    "ax1.set_ylabel('Fox Population (# animals)')\n",
    "ax1.set_title('Fox Versus Rabbit Population')\n",
    "\n",
    "### Animals vs Time\n",
    "ax2.plot(t,rabbits,'b')\n",
    "ax2.plot(t,foxes,'r')\n",
    "ax2.set_xlabel('Time (days)')\n",
    "ax2.set_ylabel('Animal Population (#)')\n",
    "ax2.set_title('Animal Population over Time')\n",
    "\n",
    "fig.tight_layout()\n",
    "plt.show()"
   ]
  },
  {
   "cell_type": "code",
   "execution_count": null,
   "metadata": {},
   "outputs": [],
   "source": []
  },
  {
   "cell_type": "code",
   "execution_count": null,
   "metadata": {},
   "outputs": [],
   "source": []
  }
 ],
 "metadata": {
  "kernelspec": {
   "display_name": "Python 3",
   "language": "python",
   "name": "python3"
  },
  "language_info": {
   "codemirror_mode": {
    "name": "ipython",
    "version": 3
   },
   "file_extension": ".py",
   "mimetype": "text/x-python",
   "name": "python",
   "nbconvert_exporter": "python",
   "pygments_lexer": "ipython3",
   "version": "3.7.6"
  },
  "varInspector": {
   "cols": {
    "lenName": 16,
    "lenType": 16,
    "lenVar": 40
   },
   "kernels_config": {
    "python": {
     "delete_cmd_postfix": "",
     "delete_cmd_prefix": "del ",
     "library": "var_list.py",
     "varRefreshCmd": "print(var_dic_list())"
    },
    "r": {
     "delete_cmd_postfix": ") ",
     "delete_cmd_prefix": "rm(",
     "library": "var_list.r",
     "varRefreshCmd": "cat(var_dic_list()) "
    }
   },
   "types_to_exclude": [
    "module",
    "function",
    "builtin_function_or_method",
    "instance",
    "_Feature"
   ],
   "window_display": false
  }
 },
 "nbformat": 4,
 "nbformat_minor": 4
}
