{
 "cells": [
  {
   "cell_type": "markdown",
   "metadata": {},
   "source": [
    "# Non-linear equations solver\n",
    "\n",
    "This is a generic code for solving a system of non-linear equations. This example aims to solve the following set of equations:\n",
    "\n",
    "$$ a \\cdot y_1^2 + b \\cdot y_1 = 10 $$\n",
    "$$ b \\cdot y_1^2 + y_2 = 12 $$\n",
    "$$ b + y_3 = 8 $$\n",
    "\n",
    "Here $a$ and $b$ are known values ($a=1$, $b=2$).\n",
    "\n",
    "We will rearrange the equations above so that one side is simply 0, guess values of the parameters, run the solver, print the solutions, and then check that the solver correctly set all equations equal to zero."
   ]
  },
  {
   "cell_type": "code",
   "execution_count": 1,
   "metadata": {},
   "outputs": [
    {
     "name": "stdout",
     "output_type": "stream",
     "text": [
      "y1 =  2.3166\n",
      "y2 =  1.2665\n",
      "y3 =  6.0000\n",
      "\n",
      "Eqn 1 should be 0 and it is: 0.00000\n",
      "Eqn 2 should be 0 and it is: 0.00000\n",
      "Eqn 3 should be 0 and it is: 0.00000\n"
     ]
    }
   ],
   "source": [
    "###### Import numpy and solver\n",
    "import numpy as np\n",
    "import scipy.optimize as opt\n",
    "\n",
    "###### Known values\n",
    "a = 1\n",
    "b = 2\n",
    "\n",
    "###### Define equations\n",
    "def eqns(U):\n",
    "    \n",
    "    # Redefine inputs\n",
    "    y1 = U[0]\n",
    "    y2 = U[1]\n",
    "    y3 = U[2]\n",
    "    \n",
    "    # Define equations\n",
    "    setzero = np.zeros(len(U))\n",
    "    setzero[0] = a * y1**2 + b * y1 - 10\n",
    "    setzero[1] = b * y1**2 + y2 - 12\n",
    "    setzero[2] = b + y3 - 8\n",
    "    \n",
    "    # Reorganize list to fit required dimensions \n",
    "    setzero = np.array(setzero).tolist()\n",
    "    \n",
    "    return setzero\n",
    "\n",
    "###### Guess values\n",
    "y1_guess = 1\n",
    "y2_guess = 1\n",
    "y3_guess = 1\n",
    "guess = [y1_guess,y2_guess,y3_guess]\n",
    "\n",
    "####### Run solver\n",
    "soln = opt.fsolve(eqns,guess)\n",
    "\n",
    "y1_solved = soln[0]\n",
    "y2_solved = soln[1]\n",
    "y3_solved = soln[2]\n",
    "\n",
    "print('y1 = ','{0:,.4f}'.format(y1_solved))\n",
    "print('y2 = ','{0:,.4f}'.format(y2_solved))\n",
    "print('y3 = ','{0:,.4f}\\n'.format(y3_solved))  \n",
    "\n",
    "### Check solution\n",
    "print('Eqn 1 should be 0 and it is:','{0:,.5f}'.format(a * y1_solved**2 + b * y1_solved - 10))\n",
    "print('Eqn 2 should be 0 and it is:','{0:,.5f}'.format(b * y1_solved**2 + y2_solved - 12))\n",
    "print('Eqn 3 should be 0 and it is:','{0:,.5f}'.format(b + y3_solved - 8))\n"
   ]
  },
  {
   "cell_type": "code",
   "execution_count": null,
   "metadata": {},
   "outputs": [],
   "source": []
  }
 ],
 "metadata": {
  "kernelspec": {
   "display_name": "Python 3",
   "language": "python",
   "name": "python3"
  },
  "language_info": {
   "codemirror_mode": {
    "name": "ipython",
    "version": 3
   },
   "file_extension": ".py",
   "mimetype": "text/x-python",
   "name": "python",
   "nbconvert_exporter": "python",
   "pygments_lexer": "ipython3",
   "version": "3.7.6"
  },
  "varInspector": {
   "cols": {
    "lenName": 16,
    "lenType": 16,
    "lenVar": 40
   },
   "kernels_config": {
    "python": {
     "delete_cmd_postfix": "",
     "delete_cmd_prefix": "del ",
     "library": "var_list.py",
     "varRefreshCmd": "print(var_dic_list())"
    },
    "r": {
     "delete_cmd_postfix": ") ",
     "delete_cmd_prefix": "rm(",
     "library": "var_list.r",
     "varRefreshCmd": "cat(var_dic_list()) "
    }
   },
   "types_to_exclude": [
    "module",
    "function",
    "builtin_function_or_method",
    "instance",
    "_Feature"
   ],
   "window_display": false
  }
 },
 "nbformat": 4,
 "nbformat_minor": 4
}
